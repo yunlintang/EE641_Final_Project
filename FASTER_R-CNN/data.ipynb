{
 "cells": [
  {
   "cell_type": "code",
   "execution_count": 1,
   "metadata": {},
   "outputs": [],
   "source": [
    "from poly2pascal.annotations import XMLAnnotator\n",
    "from tqdm.notebook import tqdm\n",
    "from tqdm.notebook import trange\n",
    "from time import sleep\n",
    "import pandas as pd\n",
    "import numpy as np\n",
    "\n",
    "import os\n",
    "import random"
   ]
  },
  {
   "cell_type": "code",
   "execution_count": 29,
   "metadata": {},
   "outputs": [
    {
     "name": "stdout",
     "output_type": "stream",
     "text": [
      "6479\n"
     ]
    }
   ],
   "source": [
    "bbox_file = \"/Users/77369/PycharmProjects/641/data/images_bboxes_withoutNaN.csv\"\n",
    "bbox_df = pd.read_csv(bbox_file)\n",
    "\n",
    "valid_id = bbox_df['image_id'].unique()\n",
    "valid_id = [f.split('.')[0] for f in valid_id]\n",
    "\n",
    "print(len(valid_id))\n",
    "# bbox_df.dropna(how='any',inplace=True)\n",
    "\n",
    "\n",
    "# bbox_df.to_csv(\"./data/images_bboxes_withoutNaN.csv\")\n"
   ]
  },
  {
   "cell_type": "code",
   "execution_count": 19,
   "metadata": {},
   "outputs": [],
   "source": [
    "# create annotator\n",
    "\n",
    "# csv_file_path=\"/Users/77369/PycharmProjects/641/data/images_bboxes_withoutNaN.csv\", \n",
    "xmla = XMLAnnotator(\n",
    "    images_path=\"/Users/77369/mmdetection/data/VOCdevkit/VOC2007/JPEGImages\", \n",
    "    csv_file_path=\"/Users/77369/PycharmProjects/641/data/images_bboxes_withoutNaN.csv\", \n",
    "    image_name_col=\"image_id\",\n",
    "    image_label_col=\"worm_type\", \n",
    "    xml_output_path=\"/Users/77369/mmdetection/data/VOCdevkit/VOC2007/Annotations\",\n",
    "    geometry_col=\"geometry\",\n",
    "    xml_end_content=\"\\n</annotation>\"\n",
    ")\n",
    "\n",
    "# create xml annotation files in Pascal VOC format\n",
    "xmla.get_all_xml_annotations(img_format=\".jpg\")"
   ]
  },
  {
   "cell_type": "code",
   "execution_count": 3,
   "metadata": {},
   "outputs": [],
   "source": [
    "trainval_percent = 0.5\n",
    "train_percent = 0.5\n",
    "xmlfilepath = '/Users/77369/mmdetection/data/VOCdevkit/VOC2007/Annotations'\n",
    "txtsavepath = '/Users/77369/mmdetection/data/VOCdevkit/VOC2007/ImageSets/Main'\n",
    "total_xml = os.listdir(xmlfilepath)\n",
    "\n",
    "num = len(total_xml)\n",
    "list = range(num)\n",
    "tv = int(num * trainval_percent)\n",
    "tr = int(tv * train_percent)\n",
    "trainval = random.sample(list, tv)\n",
    "train = random.sample(trainval, tr)\n",
    "\n",
    "ftrainval = open(txtsavepath + '/trainval.txt', 'w')\n",
    "ftest = open(txtsavepath + '/test.txt', 'w')\n",
    "ftrain = open(txtsavepath + '/train.txt', 'w')\n",
    "fval = open(txtsavepath + '/val.txt', 'w')\n",
    "\n",
    "for i in list:\n",
    "    name = total_xml[i][:-4] + '\\n'\n",
    "    if i in trainval:\n",
    "        ftrainval.write(name)\n",
    "        if i in train:\n",
    "            ftrain.write(name)\n",
    "        else:\n",
    "            fval.write(name)\n",
    "    else:\n",
    "        ftest.write(name)\n",
    "\n",
    "ftrainval.close()\n",
    "ftrain.close()\n",
    "fval.close()\n",
    "ftest.close()\n"
   ]
  },
  {
   "cell_type": "code",
   "execution_count": 39,
   "metadata": {},
   "outputs": [],
   "source": [
    "# trainval_percent = 0.5\n",
    "train_percent = 0.5\n",
    "bbox_file = \"/Users/77369/PycharmProjects/641/data/images_bboxes_withoutNaN.csv\"\n",
    "xmlfilepath = '/Users/77369/mmdetection/data/VOCdevkit/VOC2007/Annotations'\n",
    "trainpath ='./data/Train.csv' \n",
    "testpath = './data/Test.csv'\n",
    "txtsavepath = '/Users/77369/mmdetection/data/VOCdevkit/VOC2007/ImageSets/Main/'\n",
    "total_xml = os.listdir(xmlfilepath)\n",
    "total_xml = [f.split('.')[0] for f in total_xml]\n",
    "\n",
    "bbox_df = pd.read_csv(bbox_file)\n",
    "valid_id = bbox_df['image_id'].unique()\n",
    "valid_id = [f.split('.')[0] for f in valid_id]\n",
    "\n",
    "train_data = pd.read_csv(trainpath)\n",
    "test_data = pd.read_csv(testpath)\n",
    "\n",
    "train_data['image_id_worm'] = train_data['image_id_worm'].apply(lambda x: x.split('.')[0])\n",
    "train_data = train_data[train_data['image_id_worm'].isin(valid_id)]\n",
    "train_data = train_data[train_data['image_id_worm'].isin(total_xml)]\n",
    "train_data.drop_duplicates(subset=['image_id_worm'], inplace=True)\n",
    "train_data.reset_index(drop=True, inplace=True)\n",
    "\n",
    "\n",
    "data_save = train_data.loc[:1999, 'image_id_worm']\n",
    "\n",
    "num = data_save.shape[0]\n",
    "list = range(num)\n",
    "tr = int(num * train_percent)\n",
    "train = random.sample(list, tr)\n",
    "val = [item for item in list if item not in train]\n",
    "\n",
    "train_data_save = data_save[train]\n",
    "val_data_save = data_save[val]\n",
    "\n",
    "data_save.to_csv(txtsavepath+'trainval.txt', sep='\\n', index=False, header=False)\n",
    "train_data_save.to_csv(txtsavepath+'train.txt', sep='\\n', index=False, header=False)\n",
    "val_data_save.to_csv(txtsavepath+'test.txt', sep='\\n', index=False, header=False)"
   ]
  },
  {
   "cell_type": "code",
   "execution_count": null,
   "metadata": {},
   "outputs": [],
   "source": []
  },
  {
   "cell_type": "code",
   "execution_count": null,
   "metadata": {},
   "outputs": [],
   "source": [
    "for pic in test_pic_df.values.tolist()[500:]:\n",
    "# for pic in show_data:\n",
    "    img = pic_file_root + pic[0] + '.jpg'  # or img = mmcv.imread(img), which will only load it once\n",
    "    result = inference_detector(model, img)\n",
    "    pre_pwb = np.sum(result[0][:, -1] >= threshold)\n",
    "    pre_awb = np.sum(result[1][:, -1] >= threshold)\n",
    "    true_info = train_pic_df[train_pic_df['image_id_worm'] == pic[0] + '.jpg']\n",
    "    if 'pbw' in true_info['worm_type'].values:\n",
    "        y_pbw = true_info[true_info['worm_type'] == 'pbw']['number_of_worms'].values[0]\n",
    "    else:\n",
    "        y_pbw = 0\n",
    "    if 'abw' in true_info['worm_type'].values:\n",
    "        y_abw = true_info[true_info['worm_type'] == 'abw']['number_of_worms'].values[0]\n",
    "    else:\n",
    "        y_abw = 0\n",
    "    mae_temp = abs(pre_pwb - y_pbw) +abs(pre_awb - y_abw)\n",
    "    mae += mae_temp\n",
    "\n",
    "    pre_awb_total.append(pre_awb)\n",
    "    pre_pwb_total.append(pre_awb)\n",
    "    y_awb_total.append(y_abw)\n",
    "    y_pwb_total.append(y_pbw)\n",
    "    mae_total.append(mae_temp)"
   ]
  }
 ],
 "metadata": {
  "kernelspec": {
   "display_name": "EE641_Project",
   "language": "python",
   "name": "python3"
  },
  "language_info": {
   "codemirror_mode": {
    "name": "ipython",
    "version": 3
   },
   "file_extension": ".py",
   "mimetype": "text/x-python",
   "name": "python",
   "nbconvert_exporter": "python",
   "pygments_lexer": "ipython3",
   "version": "3.8.15 (default, Nov 24 2022, 14:38:14) [MSC v.1916 64 bit (AMD64)]"
  },
  "orig_nbformat": 4,
  "vscode": {
   "interpreter": {
    "hash": "f22f9c6e318510b1586a9527eea3f7371d6385396512186f0c0f9a274386f05e"
   }
  }
 },
 "nbformat": 4,
 "nbformat_minor": 2
}
