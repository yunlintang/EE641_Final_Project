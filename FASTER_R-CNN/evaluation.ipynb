{
 "cells": [
  {
   "cell_type": "code",
   "execution_count": 2,
   "metadata": {},
   "outputs": [],
   "source": [
    "import pandas as pd\n",
    "import numpy as np\n",
    "\n",
    "import os\n",
    "import random"
   ]
  },
  {
   "cell_type": "code",
   "execution_count": 13,
   "metadata": {},
   "outputs": [],
   "source": [
    "pic_file_root = './data/images/'\n",
    "train_pic = \"C:/Users/77369/mmdetection/data/VOCdevkit/VOC2007/ImageSets/Main/train.txt\"\n",
    "bbox_file = \"/Users/77369/PycharmProjects/641/data/images_bboxes_withoutNaN.csv\"\n",
    "train_pic_df = pd.read_csv(train_pic, header=None)\n",
    "\n",
    "total_pic = pd.read_csv(bbox_file)\n",
    "total_pic = total_pic['image_id'].unique()\n",
    "total_pic = [f.split('.')[0] for f in total_pic]\n",
    "\n",
    "valid_pic = [p for p in total_pic if p not in train_pic_df.values.tolist()]\n",
    "valid_pic = pd.DataFrame({'pic':valid_pic})\n",
    "valid_pic.head()\n",
    "show_pic = valid_pic[:50]\n",
    "test_pic = valid_pic[:1000]\n",
    "show_pic.to_csv('./data/test_picture/show_pic.txt', sep='\\n', index=False, header=False)\n",
    "test_pic.to_csv('./data/test_picture/test_pic.txt', sep='\\n', index=False, header=False)\n",
    "\n",
    "# print(len(valid_pic))"
   ]
  },
  {
   "cell_type": "code",
   "execution_count": 5,
   "metadata": {},
   "outputs": [
    {
     "name": "stdout",
     "output_type": "stream",
     "text": [
      "                        image_id_worm worm_type  number_of_worms\n",
      "13    id_00450e8b229932359e7c32a3.jpg       pbw               33\n",
      "94    id_025d41d8ecbff4e781b3d36c.jpg       abw                1\n",
      "115   id_02aca55d9126de2b80f16312.jpg       pbw                7\n",
      "190   id_04cc772c00e7ff5dfe712dc6.jpg       abw                1\n",
      "205   id_050bfb62da75e63107eea8d6.jpg       pbw                3\n",
      "...                               ...       ...              ...\n",
      "9503  id_f52e952ae5d8a1bced79cdc8.jpg       abw                1\n",
      "9580  id_f73ab7b153f2028ae790798c.jpg       abw                2\n",
      "9615  id_f83334c80f0983276bf63c9a.jpg       abw                1\n",
      "9657  id_f8f857f02c602a2850a58208.jpg       abw                3\n",
      "9834  id_fe1267a85879c87751dc0233.jpg       pbw                5\n",
      "\n",
      "[163 rows x 3 columns]\n"
     ]
    }
   ],
   "source": [
    "pic_file_root = './data/images/'\n",
    "train_info = './data/Train.csv'\n",
    "train_pic_df = pd.read_csv(train_info)\n",
    "# train_pic_df.head()\n",
    "print(train_pic_df[train_pic_df['image_id_worm'].duplicated()])"
   ]
  },
  {
   "cell_type": "code",
   "execution_count": null,
   "metadata": {},
   "outputs": [],
   "source": [
    "show_pic_file = \"./data/test_picture/show_pic.txt\"\n",
    "test_pic_file = \"./data/test_picture/test_pic.txt\"\n",
    "\n",
    "show_pic_df = pd.read_csv(show_pic_file, header=None)\n",
    "test_pic_df = pd.read_csv(test_pic_file, header=None)\n",
    "show_pic_df.head()\n"
   ]
  },
  {
   "cell_type": "code",
   "execution_count": 10,
   "metadata": {},
   "outputs": [
    {
     "name": "stderr",
     "output_type": "stream",
     "text": [
      "d:\\Programming\\Anaconda3\\envs\\EE641_Project\\lib\\site-packages\\tqdm\\auto.py:22: TqdmWarning: IProgress not found. Please update jupyter and ipywidgets. See https://ipywidgets.readthedocs.io/en/stable/user_install.html\n",
      "  from .autonotebook import tqdm as notebook_tqdm\n",
      "No CUDA runtime is found, using CUDA_HOME='C:\\Program Files\\NVIDIA GPU Computing Toolkit\\CUDA\\v11.1'\n",
      "d:\\Programming\\Anaconda3\\envs\\EE641_Project\\lib\\site-packages\\mmcv\\__init__.py:20: UserWarning: On January 1, 2023, MMCV will release v2.0.0, in which it will remove components related to the training process and add a data transformation module. In addition, it will rename the package names mmcv to mmcv-lite and mmcv-full to mmcv. See https://github.com/open-mmlab/mmcv/blob/master/docs/en/compatibility.md for more details.\n",
      "  warnings.warn(\n"
     ]
    },
    {
     "name": "stdout",
     "output_type": "stream",
     "text": [
      "load checkpoint from local path: C:/Users/77369/mmdetection/work_dirs/faster_rcnn_r50_fpn_1x_voc0712/latest.pth\n"
     ]
    }
   ],
   "source": [
    "from mmdet.apis import init_detector, inference_detector, show_result_pyplot\n",
    "import mmcv\n",
    "\n",
    "# Specify the path to model config and checkpoint file\n",
    "config_file = \"C:/Users/77369/mmdetection/work_dirs/faster_rcnn_r50_fpn_1x_voc0712/faster_rcnn_r50_fpn_1x_voc0712.py\"\n",
    "checkpoint_file = \"C:/Users/77369/mmdetection/work_dirs/faster_rcnn_r50_fpn_1x_voc0712/latest.pth\"\n",
    "\n",
    "# build the model from a config file and a checkpoint file\n",
    "model = init_detector(config_file, checkpoint_file, device='cpu')\n"
   ]
  },
  {
   "cell_type": "code",
   "execution_count": 62,
   "metadata": {},
   "outputs": [],
   "source": [
    "color = [(255, 0, 0), (0, 0, 255)]\n",
    "for pic in show_pic_df.values.tolist():\n",
    "    img = pic_file_root + pic[0] + '.jpg'  # or img = mmcv.imread(img), which will only load it once\n",
    "    result = inference_detector(model, img)\n",
    "    model.show_result(img, result, score_thr=0.7, bbox_color=color, out_file=f'./data/test_picture/show_pic_results/{pic[0]}.jpg')\n"
   ]
  },
  {
   "cell_type": "code",
   "execution_count": null,
   "metadata": {},
   "outputs": [],
   "source": [
    "# 0: pwb, 1: awb"
   ]
  },
  {
   "cell_type": "code",
   "execution_count": 134,
   "metadata": {},
   "outputs": [],
   "source": [
    "train_info = './data/Train.csv'\n",
    "train_pic_df = pd.read_csv(train_info)\n",
    "threshold = 0.7\n",
    "\n",
    "pre_awb_total = []\n",
    "pre_pwb_total = []\n",
    "y_awb_total = []\n",
    "y_pwb_total = []\n",
    "mae_total = []\n",
    "mae = 0\n",
    "for pic in test_pic_df.values.tolist()[:500]:\n",
    "# for pic in show_data:\n",
    "    img = pic_file_root + pic[0] + '.jpg'  # or img = mmcv.imread(img), which will only load it once\n",
    "    result = inference_detector(model, img)\n",
    "    pre_pwb = np.sum(result[0][:, -1] >= threshold)\n",
    "    pre_awb = np.sum(result[1][:, -1] >= threshold)\n",
    "    true_info = train_pic_df[train_pic_df['image_id_worm'] == pic[0] + '.jpg']\n",
    "    if 'pbw' in true_info['worm_type'].values:\n",
    "        y_pbw = true_info[true_info['worm_type'] == 'pbw']['number_of_worms'].values[0]\n",
    "    else:\n",
    "        y_pbw = 0\n",
    "    if 'abw' in true_info['worm_type'].values:\n",
    "        y_abw = true_info[true_info['worm_type'] == 'abw']['number_of_worms'].values[0]\n",
    "    else:\n",
    "        y_abw = 0\n",
    "    mae_temp = abs(pre_pwb - y_pbw) +abs(pre_awb - y_abw)\n",
    "    mae += mae_temp\n",
    "\n",
    "    pre_awb_total.append(pre_awb)\n",
    "    pre_pwb_total.append(pre_awb)\n",
    "    y_awb_total.append(y_abw)\n",
    "    y_pwb_total.append(y_pbw)\n",
    "    mae_total.append(mae_temp)\n",
    "# mae /= len(test_pic_df.values.tolist())\n",
    "# print(f\"mae = {mae}\")"
   ]
  },
  {
   "cell_type": "code",
   "execution_count": 137,
   "metadata": {},
   "outputs": [],
   "source": [
    "for pic in test_pic_df.values.tolist()[500:]:\n",
    "# for pic in show_data:\n",
    "    img = pic_file_root + pic[0] + '.jpg'  # or img = mmcv.imread(img), which will only load it once\n",
    "    result = inference_detector(model, img)\n",
    "    pre_pwb = np.sum(result[0][:, -1] >= threshold)\n",
    "    pre_awb = np.sum(result[1][:, -1] >= threshold)\n",
    "    true_info = train_pic_df[train_pic_df['image_id_worm'] == pic[0] + '.jpg']\n",
    "    if 'pbw' in true_info['worm_type'].values:\n",
    "        y_pbw = true_info[true_info['worm_type'] == 'pbw']['number_of_worms'].values[0]\n",
    "    else:\n",
    "        y_pbw = 0\n",
    "    if 'abw' in true_info['worm_type'].values:\n",
    "        y_abw = true_info[true_info['worm_type'] == 'abw']['number_of_worms'].values[0]\n",
    "    else:\n",
    "        y_abw = 0\n",
    "    mae_temp = abs(pre_pwb - y_pbw) +abs(pre_awb - y_abw)\n",
    "    mae += mae_temp\n",
    "\n",
    "    pre_awb_total.append(pre_awb)\n",
    "    pre_pwb_total.append(pre_awb)\n",
    "    y_awb_total.append(y_abw)\n",
    "    y_pwb_total.append(y_pbw)\n",
    "    mae_total.append(mae_temp)"
   ]
  },
  {
   "cell_type": "code",
   "execution_count": 159,
   "metadata": {},
   "outputs": [
    {
     "data": {
      "text/plain": [
       "Index(['image_id', 'pre_pwb_num', 'pre_awb_num', 'y_pwb_num', 'y_awb_num',\n",
       "       'mae'],\n",
       "      dtype='object')"
      ]
     },
     "execution_count": 159,
     "metadata": {},
     "output_type": "execute_result"
    }
   ],
   "source": [
    "val_data = {'image_id': [a[0] for a in test_pic_df.values.tolist()], 'pre_pwb_num': pre_pwb_total, 'pre_awb_num':pre_awb_total, 'y_pwb_num':y_pwb_total, 'y_awb_num': y_awb_total, 'mae':mae_total}\n",
    "val_data = pd.DataFrame(val_data)\n",
    "val_data.columns\n",
    "# val_data.to_csv('./data/test_picture/val_results.csv', sep='\\n', index=False)"
   ]
  },
  {
   "cell_type": "code",
   "execution_count": 144,
   "metadata": {},
   "outputs": [],
   "source": [
    "show_data = [\"id_8ada71185e18dc8838b4925b.jpg\", \"id_9eb4b51e24675e47795c7693.jpg\", \"id_49e44652c7aa30903dd9df34.jpg\"]\n",
    "color = [(255, 0, 0), (0, 0, 255)]\n",
    "for pic in show_data:\n",
    "    img = pic_file_root + pic  # or img = mmcv.imread(img), which will only load it once\n",
    "    result = inference_detector(model, img)\n",
    "    model.show_result(img, result, score_thr=0.7, bbox_color=color, out_file=f'./data/test_picture/show_pic_results/{pic}.jpg')"
   ]
  },
  {
   "cell_type": "code",
   "execution_count": 258,
   "metadata": {},
   "outputs": [
    {
     "data": {
      "text/html": [
       "<div>\n",
       "<style scoped>\n",
       "    .dataframe tbody tr th:only-of-type {\n",
       "        vertical-align: middle;\n",
       "    }\n",
       "\n",
       "    .dataframe tbody tr th {\n",
       "        vertical-align: top;\n",
       "    }\n",
       "\n",
       "    .dataframe thead th {\n",
       "        text-align: right;\n",
       "    }\n",
       "</style>\n",
       "<table border=\"1\" class=\"dataframe\">\n",
       "  <thead>\n",
       "    <tr style=\"text-align: right;\">\n",
       "      <th></th>\n",
       "      <th>image_id</th>\n",
       "      <th>worm_type</th>\n",
       "      <th>geometry</th>\n",
       "    </tr>\n",
       "  </thead>\n",
       "  <tbody>\n",
       "    <tr>\n",
       "      <th>0</th>\n",
       "      <td>id_8ada71185e18dc8838b4925b.jpg</td>\n",
       "      <td>pbw</td>\n",
       "      <td>POLYGON ((2478.89 156.77, 2478.89 297.86, 2377...</td>\n",
       "    </tr>\n",
       "    <tr>\n",
       "      <th>1</th>\n",
       "      <td>id_8ada71185e18dc8838b4925b.jpg</td>\n",
       "      <td>pbw</td>\n",
       "      <td>POLYGON ((939.8199999999999 1221.46, 939.81999...</td>\n",
       "    </tr>\n",
       "    <tr>\n",
       "      <th>2</th>\n",
       "      <td>id_8ada71185e18dc8838b4925b.jpg</td>\n",
       "      <td>abw</td>\n",
       "      <td>POLYGON ((1559.7 1558.06, 1559.7 1966.3, 1129....</td>\n",
       "    </tr>\n",
       "    <tr>\n",
       "      <th>3</th>\n",
       "      <td>id_bc86d3cfd0c0463fa5cae33e.jpg</td>\n",
       "      <td>abw</td>\n",
       "      <td>POLYGON ((2090.216399557101 1537.2100674812148...</td>\n",
       "    </tr>\n",
       "    <tr>\n",
       "      <th>4</th>\n",
       "      <td>id_bc86d3cfd0c0463fa5cae33e.jpg</td>\n",
       "      <td>abw</td>\n",
       "      <td>POLYGON ((2342.2568587778546 1676.304250464547...</td>\n",
       "    </tr>\n",
       "  </tbody>\n",
       "</table>\n",
       "</div>"
      ],
      "text/plain": [
       "                          image_id worm_type  \\\n",
       "0  id_8ada71185e18dc8838b4925b.jpg       pbw   \n",
       "1  id_8ada71185e18dc8838b4925b.jpg       pbw   \n",
       "2  id_8ada71185e18dc8838b4925b.jpg       abw   \n",
       "3  id_bc86d3cfd0c0463fa5cae33e.jpg       abw   \n",
       "4  id_bc86d3cfd0c0463fa5cae33e.jpg       abw   \n",
       "\n",
       "                                            geometry  \n",
       "0  POLYGON ((2478.89 156.77, 2478.89 297.86, 2377...  \n",
       "1  POLYGON ((939.8199999999999 1221.46, 939.81999...  \n",
       "2  POLYGON ((1559.7 1558.06, 1559.7 1966.3, 1129....  \n",
       "3  POLYGON ((2090.216399557101 1537.2100674812148...  \n",
       "4  POLYGON ((2342.2568587778546 1676.304250464547...  "
      ]
     },
     "execution_count": 258,
     "metadata": {},
     "output_type": "execute_result"
    }
   ],
   "source": [
    "bbox_file = \"/Users/77369/PycharmProjects/641/data/images_bboxes.csv\"\n",
    "bbox_info = pd.read_csv(bbox_file)\n",
    "bbox_info.head()"
   ]
  },
  {
   "cell_type": "code",
   "execution_count": 190,
   "metadata": {},
   "outputs": [
    {
     "name": "stdout",
     "output_type": "stream",
     "text": [
      "[[7.1676733e+02 1.2134570e+03 9.3951703e+02 1.3211289e+03 9.8988241e-01]\n",
      " [2.3727783e+03 1.5602167e+02 2.4830454e+03 2.9145331e+02 8.0207944e-01]]\n",
      "[[1.0998333e+03 1.5218259e+03 1.6024414e+03 1.9905519e+03 9.9776471e-01]]\n"
     ]
    }
   ],
   "source": [
    "img = pic_file_root + \"id_8ada71185e18dc8838b4925b.jpg\"  # or img = mmcv.imread(img), which will only load it once\n",
    "result_temp = inference_detector(model, img)\n",
    "print(result_temp[0])\n",
    "print(result_temp[1])"
   ]
  },
  {
   "cell_type": "code",
   "execution_count": 280,
   "metadata": {},
   "outputs": [],
   "source": [
    "import re\n",
    "show_data_my = [\"id_8ada71185e18dc8838b4925b\", \"id_9eb4b51e24675e47795c7693\", \"id_49e44652c7aa30903dd9df34\", \"id_0a99918f6e85f734a00d969d\", \"id_4780c30c76a533d0b93426e3\", \"id_2e8cd44287db582e0d2d449d\"]\n",
    "for id in show_data_my:\n",
    "    i_bbox_info = bbox_info[bbox_info['image_id'] == id+'.jpg']\n",
    "    # i_bbox_info = bbox_info[bbox_info['image_id'] == 'id_49e44652c7aa30903dd9df34.jpg']\n",
    "    pbw_list = []\n",
    "    abw_list = []\n",
    "    for j in i_bbox_info.values:\n",
    "        if j.shape[0] < 3:\n",
    "            print(id)\n",
    "            continue\n",
    "        point = re.findall(r'[(](.*?)[)]', j[-1])[0][1:]\n",
    "        point = point.split(',')\n",
    "        for i in range(5):\n",
    "            point[i] = point[i].lstrip()\n",
    "            point[i] = point[i].split(' ')\n",
    "            point[i] = [float(a) for a in point[i]]\n",
    "        if j[-2] == 'abw':\n",
    "            abw_list.append(point[0]+point[2]+[1])\n",
    "        else:\n",
    "            pbw_list.append(point[0]+point[2]+[1])\n",
    "    point_info = [np.array(pbw_list).reshape(-1,5), np.array(abw_list).reshape(-1,5)]\n",
    "    model.show_result(pic_file_root + id +'.jpg', point_info, score_thr=0.7, bbox_color=color, out_file=f'./data/test_picture/original_pic/{id}.jpg')\n"
   ]
  },
  {
   "cell_type": "code",
   "execution_count": null,
   "metadata": {},
   "outputs": [],
   "source": [
    "for pic in test_pic_df.values.tolist()[500:]:\n",
    "# for pic in show_data:\n",
    "    img = pic_file_root + pic[0] + '.jpg'  # or img = mmcv.imread(img), which will only load it once\n",
    "    result = inference_detector(model, img)\n",
    "    pre_pwb = np.sum(result[0][:, -1] >= threshold)\n",
    "    pre_awb = np.sum(result[1][:, -1] >= threshold)\n",
    "    true_info = train_pic_df[train_pic_df['image_id_worm'] == pic[0] + '.jpg']\n",
    "    if 'pbw' in true_info['worm_type'].values:\n",
    "        y_pbw = true_info[true_info['worm_type'] == 'pbw']['number_of_worms'].values[0]\n",
    "    else:\n",
    "        y_pbw = 0\n",
    "    if 'abw' in true_info['worm_type'].values:\n",
    "        y_abw = true_info[true_info['worm_type'] == 'abw']['number_of_worms'].values[0]\n",
    "    else:\n",
    "        y_abw = 0\n",
    "    mae_temp = abs(pre_pwb - y_pbw) +abs(pre_awb - y_abw)\n",
    "    mae += mae_temp\n",
    "\n",
    "    pre_awb_total.append(pre_awb)\n",
    "    pre_pwb_total.append(pre_awb)\n",
    "    y_awb_total.append(y_abw)\n",
    "    y_pwb_total.append(y_pbw)\n",
    "    mae_total.append(mae_temp)"
   ]
  },
  {
   "cell_type": "code",
   "execution_count": 9,
   "metadata": {},
   "outputs": [
    {
     "data": {
      "text/plain": [
       "'id_00332970f80fa9a47a39516d.jpg'"
      ]
     },
     "execution_count": 9,
     "metadata": {},
     "output_type": "execute_result"
    }
   ],
   "source": [
    "test_info = './data/Test.csv'\n",
    "test_pic_df = pd.read_csv(test_info)\n",
    "test_pic_df.values.tolist()[0][0]"
   ]
  },
  {
   "cell_type": "code",
   "execution_count": null,
   "metadata": {},
   "outputs": [],
   "source": [
    "test_info = './data/Test.csv'\n",
    "test_pic_df = pd.read_csv(test_info)\n",
    "threshold = 0.7\n",
    "\n",
    "test_pre_total = []\n",
    "image_id = []\n",
    "# test_pre_pwb_total = []\n",
    "# [:500]\n",
    "for pic in test_pic_df.values.tolist():\n",
    "    img = pic_file_root + pic[0]  # or img = mmcv.imread(img), which will only load it once\n",
    "    result = inference_detector(model, img)\n",
    "    pre_pbw = np.sum(result[0][:, -1] >= threshold)\n",
    "    pre_abw = np.sum(result[1][:, -1] >= threshold)\n",
    "    image_id.append(pic[0].split('.')[0]+'_abw')\n",
    "    image_id.append(pic[0].split('.')[0]+'_pbw')\n",
    "    test_pre_total.append(pre_abw)\n",
    "    test_pre_total.append(pre_pbw)\n",
    "print(image_id.shape)\n",
    "print(test_pre_total.shape)\n",
    "# mae /= len(test_pic_df.values.tolist())\n",
    "# print(f\"mae = {mae}\")"
   ]
  },
  {
   "cell_type": "code",
   "execution_count": 14,
   "metadata": {},
   "outputs": [
    {
     "name": "stdout",
     "output_type": "stream",
     "text": [
      "5606\n",
      "(2803, 1)\n"
     ]
    }
   ],
   "source": [
    "print(len(test_pre_total))\n",
    "print(test_pic_df.shape)"
   ]
  },
  {
   "cell_type": "code",
   "execution_count": 16,
   "metadata": {},
   "outputs": [
    {
     "data": {
      "text/html": [
       "<div>\n",
       "<style scoped>\n",
       "    .dataframe tbody tr th:only-of-type {\n",
       "        vertical-align: middle;\n",
       "    }\n",
       "\n",
       "    .dataframe tbody tr th {\n",
       "        vertical-align: top;\n",
       "    }\n",
       "\n",
       "    .dataframe thead th {\n",
       "        text-align: right;\n",
       "    }\n",
       "</style>\n",
       "<table border=\"1\" class=\"dataframe\">\n",
       "  <thead>\n",
       "    <tr style=\"text-align: right;\">\n",
       "      <th></th>\n",
       "      <th>image_id_worm</th>\n",
       "      <th>number_of_worms</th>\n",
       "    </tr>\n",
       "  </thead>\n",
       "  <tbody>\n",
       "    <tr>\n",
       "      <th>0</th>\n",
       "      <td>id_00332970f80fa9a47a39516d_abw</td>\n",
       "      <td>4</td>\n",
       "    </tr>\n",
       "    <tr>\n",
       "      <th>1</th>\n",
       "      <td>id_00332970f80fa9a47a39516d_pbw</td>\n",
       "      <td>0</td>\n",
       "    </tr>\n",
       "    <tr>\n",
       "      <th>2</th>\n",
       "      <td>id_0035981bc3ae42eb5b57a317_abw</td>\n",
       "      <td>0</td>\n",
       "    </tr>\n",
       "    <tr>\n",
       "      <th>3</th>\n",
       "      <td>id_0035981bc3ae42eb5b57a317_pbw</td>\n",
       "      <td>18</td>\n",
       "    </tr>\n",
       "    <tr>\n",
       "      <th>4</th>\n",
       "      <td>id_005102f664b820f778291dee_abw</td>\n",
       "      <td>9</td>\n",
       "    </tr>\n",
       "  </tbody>\n",
       "</table>\n",
       "</div>"
      ],
      "text/plain": [
       "                     image_id_worm  number_of_worms\n",
       "0  id_00332970f80fa9a47a39516d_abw                4\n",
       "1  id_00332970f80fa9a47a39516d_pbw                0\n",
       "2  id_0035981bc3ae42eb5b57a317_abw                0\n",
       "3  id_0035981bc3ae42eb5b57a317_pbw               18\n",
       "4  id_005102f664b820f778291dee_abw                9"
      ]
     },
     "execution_count": 16,
     "metadata": {},
     "output_type": "execute_result"
    }
   ],
   "source": [
    "test_out = {\n",
    "    'image_id_worm': image_id,\n",
    "    'number_of_worms': test_pre_total\n",
    "}\n",
    "test_out_df = pd.DataFrame(test_out)\n",
    "test_out_df.head()"
   ]
  },
  {
   "cell_type": "code",
   "execution_count": 18,
   "metadata": {},
   "outputs": [],
   "source": [
    "test_out_df.to_csv('./data/test_result.csv', index=False)"
   ]
  }
 ],
 "metadata": {
  "kernelspec": {
   "display_name": "EE641_Project",
   "language": "python",
   "name": "python3"
  },
  "language_info": {
   "codemirror_mode": {
    "name": "ipython",
    "version": 3
   },
   "file_extension": ".py",
   "mimetype": "text/x-python",
   "name": "python",
   "nbconvert_exporter": "python",
   "pygments_lexer": "ipython3",
   "version": "3.8.15"
  },
  "orig_nbformat": 4,
  "vscode": {
   "interpreter": {
    "hash": "f22f9c6e318510b1586a9527eea3f7371d6385396512186f0c0f9a274386f05e"
   }
  }
 },
 "nbformat": 4,
 "nbformat_minor": 2
}
